{
    "cells": [
        {
            "cell_type": "markdown",
            "metadata": {},
            "source": "<p style=\"\">\n    <a href=\"https://skills.network/?utm_medium=Exinfluencer&amp;utm_source=Exinfluencer&amp;utm_content=000026UJ&amp;utm_term=10006555&amp;utm_id=NA-SkillsNetwork-Channel-SkillsNetworkCoursesIBMDeveloperSkillsNetworkPY0101ENSkillsNetwork1005-2023-01-01\">\n    <img src=\"https://cf-courses-data.s3.us.cloud-object-storage.appdomain.cloud/assets/logos/SN_web_lightmode.png\" width=\"200\" alt=\"Skills Network Logo\">\n    </a>\n</p>\n\n# Introduction to Pandas in Python\n\n\nEstimated time needed: **15** minutes\n    \n\n## Objectives\n\nAfter completing this lab you will be able to:\n\n* Use Pandas to access and view data\n"
        },
        {
            "cell_type": "markdown",
            "metadata": {},
            "source": "<h2>Table of Contents</h2>\n<div class=\"alert alert-block alert-info\" style=\"\">\n    <ul>\n        <li><a href=\"dataset\">About the Dataset</a></li>\n        <li><a href=\"pandas\">Introduction of <code>Pandas</code></a></li>\n        <li><a href=\"data\">Viewing Data and Accessing Data</a></li>\n        <li><a href=\"quiz\">Quiz on DataFrame</a></li>\n    </ul>\n  \n</div>\n\n<hr>\n"
        },
        {
            "cell_type": "markdown",
            "metadata": {},
            "source": "<h2>About the Dataset</h2>\n"
        },
        {
            "cell_type": "markdown",
            "metadata": {},
            "source": "The table has one row for each album and several columns.\n\n<ul>\n    <li><b>artist</b>: Name of the artist</li>\n    <li><b>album</b>: Name of the album</li>\n    <li><b>released_year</b>: Year the album was released</li>\n    <li><b>length_min_sec</b>: Length of the album (hours,minutes,seconds)</li>\n    <li><b>genre</b>: Genre of the album</li>\n    <li><b>music_recording_sales_millions</b>: Music recording sales (millions in USD) on <a href=\"http://www.song-database.com/?utm_medium=Exinfluencer&amp;utm_source=Exinfluencer&amp;utm_content=000026UJ&amp;utm_term=10006555&amp;utm_id=NA-SkillsNetwork-Channel-SkillsNetworkCoursesIBMDeveloperSkillsNetworkPY0101ENSkillsNetwork1005-2023-01-01\">[SONG://DATABASE]</a></li>\n    <li><b>claimed_sales_millions</b>: Album's claimed sales (millions in USD) on <a href=\"http://www.song-database.com/?utm_medium=Exinfluencer&amp;utm_source=Exinfluencer&amp;utm_content=000026UJ&amp;utm_term=10006555&amp;utm_id=NA-SkillsNetwork-Channel-SkillsNetworkCoursesIBMDeveloperSkillsNetworkPY0101ENSkillsNetwork1005-2023-01-01\">[SONG://DATABASE]</a></li>\n    <li><b>date_released</b>: Date on which the album was released</li>\n    <li><b>soundtrack</b>: Indicates if the album is the movie soundtrack (Y) or (N)</li>\n    <li><b>rating_of_friends</b>: Indicates the rating from your friends from 1 to 10</li>\n</ul>\n\nYou can see the dataset here:\n\n<font size=\"1\">\n<table>\n  <tbody><tr>\n    <th>Artist</th>\n    <th>Album</th> \n    <th>Released</th>\n    <th>Length</th>\n    <th>Genre</th> \n    <th>Music recording sales (millions)</th>\n    <th>Claimed sales (millions)</th>\n    <th>Released</th>\n    <th>Soundtrack</th>\n    <th>Rating (friends)</th>\n  </tr>\n  <tr>\n    <td>Michael Jackson</td>\n    <td>Thriller</td> \n    <td>1982</td>\n    <td>00:42:19</td>\n    <td>Pop, rock, R&amp;B</td>\n    <td>46</td>\n    <td>65</td>\n    <td>30-Nov-82</td>\n    <td></td>\n    <td>10.0</td>\n  </tr>\n  <tr>\n    <td>AC/DC</td>\n    <td>Back in Black</td> \n    <td>1980</td>\n    <td>00:42:11</td>\n    <td>Hard rock</td>\n    <td>26.1</td>\n    <td>50</td>\n    <td>25-Jul-80</td>\n    <td></td>\n    <td>8.5</td>\n  </tr>\n    <tr>\n    <td>Pink Floyd</td>\n    <td>The Dark Side of the Moon</td> \n    <td>1973</td>\n    <td>00:42:49</td>\n    <td>Progressive rock</td>\n    <td>24.2</td>\n    <td>45</td>\n    <td>01-Mar-73</td>\n    <td></td>\n    <td>9.5</td>\n  </tr>\n    <tr>\n    <td>Whitney Houston</td>\n    <td>The Bodyguard</td> \n    <td>1992</td>\n    <td>00:57:44</td>\n    <td>Soundtrack/R&amp;B, soul, pop</td>\n    <td>26.1</td>\n    <td>50</td>\n    <td>25-Jul-80</td>\n    <td>Y</td>\n    <td>7.0</td>\n  </tr>\n    <tr>\n    <td>Meat Loaf</td>\n    <td>Bat Out of Hell</td> \n    <td>1977</td>\n    <td>00:46:33</td>\n    <td>Hard rock, progressive rock</td>\n    <td>20.6</td>\n    <td>43</td>\n    <td>21-Oct-77</td>\n    <td></td>\n    <td>7.0</td>\n  </tr>\n    <tr>\n    <td>Eagles</td>\n    <td>Their Greatest Hits (1971-1975)</td> \n    <td>1976</td>\n    <td>00:43:08</td>\n    <td>Rock, soft rock, folk rock</td>\n    <td>32.2</td>\n    <td>42</td>\n    <td>17-Feb-76</td>\n    <td></td>\n    <td>9.5</td>\n  </tr>\n    <tr>\n    <td>Bee Gees</td>\n    <td>Saturday Night Fever</td> \n    <td>1977</td>\n    <td>1:15:54</td>\n    <td>Disco</td>\n    <td>20.6</td>\n    <td>40</td>\n    <td>15-Nov-77</td>\n    <td>Y</td>\n    <td>9.0</td>\n  </tr>\n    <tr>\n    <td>Fleetwood Mac</td>\n    <td>Rumours</td> \n    <td>1977</td>\n    <td>00:40:01</td>\n    <td>Soft rock</td>\n    <td>27.9</td>\n    <td>40</td>\n    <td>04-Feb-77</td>\n    <td></td>\n    <td>9.5</td>\n  </tr>\n</tbody></table></font>\n"
        },
        {
            "cell_type": "markdown",
            "metadata": {},
            "source": "<hr>\n"
        },
        {
            "cell_type": "markdown",
            "metadata": {},
            "source": "<h2>Introduction of <code>Pandas</code></h2>\n"
        },
        {
            "cell_type": "code",
            "execution_count": 1,
            "metadata": {
                "id": "baac34b8-adbb-4ea8-8cfb-7bcbefa3a358"
            },
            "outputs": [
                {
                    "name": "stdout",
                    "output_type": "stream",
                    "text": "Requirement already satisfied: xlrd in /opt/conda/envs/Python-RT24.1/lib/python3.11/site-packages (2.0.1)\nRequirement already satisfied: openpyxl in /opt/conda/envs/Python-RT24.1/lib/python3.11/site-packages (3.0.10)\nRequirement already satisfied: et_xmlfile in /opt/conda/envs/Python-RT24.1/lib/python3.11/site-packages (from openpyxl) (1.1.0)\n"
                }
            ],
            "source": "# Dependency needed to install file \n\n!pip install xlrd\n!pip install openpyxl"
        },
        {
            "cell_type": "code",
            "execution_count": 2,
            "metadata": {
                "id": "2dab11d2-63c9-4d5f-a792-1b8ace3b9d5d"
            },
            "outputs": [],
            "source": "# Import required library\n\nimport pandas as pd"
        },
        {
            "cell_type": "markdown",
            "metadata": {},
            "source": "After the import command, we now have access to a large number of pre-built classes and functions. This assumes the library is installed; in our lab environment all the necessary libraries are installed. One way pandas allow you to work with data is a dataframe. Let's go through the process to go from a comma separated values (<b>.csv</b>) file to a dataframe. This variable <code>csv_path</code> stores the path of the <b>.csv</b>, which is used as an argument to the <code>read_csv</code> function. The result is stored in the object <code>df</code>, this is a common short form used for a variable referring to a Pandas dataframe. \n"
        },
        {
            "cell_type": "code",
            "execution_count": 3,
            "metadata": {
                "id": "173b7192-9fa2-4da0-9d87-89936ec1d8bd"
            },
            "outputs": [],
            "source": "# Read data from CSV file\n\ncsv_path = 'https://cf-courses-data.s3.us.cloud-object-storage.appdomain.cloud/IBMDeveloperSkillsNetwork-PY0101EN-SkillsNetwork/labs/Module%204/data/TopSellingAlbums.csv'\ndf = pd.read_csv(csv_path)"
        },
        {
            "cell_type": "markdown",
            "metadata": {},
            "source": "We can use the method <code>head()</code> to examine the first five rows of a dataframe: \n"
        },
        {
            "cell_type": "code",
            "execution_count": 4,
            "metadata": {
                "id": "27fda1da-e87a-4abc-9050-52c4aeea34cd"
            },
            "outputs": [
                {
                    "data": {
                        "text/html": "<div>\n<style scoped>\n    .dataframe tbody tr th:only-of-type {\n        vertical-align: middle;\n    }\n\n    .dataframe tbody tr th {\n        vertical-align: top;\n    }\n\n    .dataframe thead th {\n        text-align: right;\n    }\n</style>\n<table border=\"1\" class=\"dataframe\">\n  <thead>\n    <tr style=\"text-align: right;\">\n      <th></th>\n      <th>Artist</th>\n      <th>Album</th>\n      <th>Released</th>\n      <th>Length</th>\n      <th>Genre</th>\n      <th>Music Recording Sales (millions)</th>\n      <th>Claimed Sales (millions)</th>\n      <th>Released.1</th>\n      <th>Soundtrack</th>\n      <th>Rating</th>\n    </tr>\n  </thead>\n  <tbody>\n    <tr>\n      <th>0</th>\n      <td>Michael Jackson</td>\n      <td>Thriller</td>\n      <td>1982</td>\n      <td>0:42:19</td>\n      <td>pop, rock, R&amp;B</td>\n      <td>46.0</td>\n      <td>65</td>\n      <td>30-Nov-82</td>\n      <td>NaN</td>\n      <td>10.0</td>\n    </tr>\n    <tr>\n      <th>1</th>\n      <td>AC/DC</td>\n      <td>Back in Black</td>\n      <td>1980</td>\n      <td>0:42:11</td>\n      <td>hard rock</td>\n      <td>26.1</td>\n      <td>50</td>\n      <td>25-Jul-80</td>\n      <td>NaN</td>\n      <td>9.5</td>\n    </tr>\n    <tr>\n      <th>2</th>\n      <td>Pink Floyd</td>\n      <td>The Dark Side of the Moon</td>\n      <td>1973</td>\n      <td>0:42:49</td>\n      <td>progressive rock</td>\n      <td>24.2</td>\n      <td>45</td>\n      <td>01-Mar-73</td>\n      <td>NaN</td>\n      <td>9.0</td>\n    </tr>\n    <tr>\n      <th>3</th>\n      <td>Whitney Houston</td>\n      <td>The Bodyguard</td>\n      <td>1992</td>\n      <td>0:57:44</td>\n      <td>R&amp;B, soul, pop</td>\n      <td>27.4</td>\n      <td>44</td>\n      <td>17-Nov-92</td>\n      <td>Y</td>\n      <td>8.5</td>\n    </tr>\n    <tr>\n      <th>4</th>\n      <td>Meat Loaf</td>\n      <td>Bat Out of Hell</td>\n      <td>1977</td>\n      <td>0:46:33</td>\n      <td>hard rock, progressive rock</td>\n      <td>20.6</td>\n      <td>43</td>\n      <td>21-Oct-77</td>\n      <td>NaN</td>\n      <td>8.0</td>\n    </tr>\n  </tbody>\n</table>\n</div>",
                        "text/plain": "            Artist                      Album  Released   Length  \\\n0  Michael Jackson                   Thriller      1982  0:42:19   \n1            AC/DC              Back in Black      1980  0:42:11   \n2       Pink Floyd  The Dark Side of the Moon      1973  0:42:49   \n3  Whitney Houston              The Bodyguard      1992  0:57:44   \n4        Meat Loaf            Bat Out of Hell      1977  0:46:33   \n\n                         Genre  Music Recording Sales (millions)  \\\n0               pop, rock, R&B                              46.0   \n1                    hard rock                              26.1   \n2             progressive rock                              24.2   \n3               R&B, soul, pop                              27.4   \n4  hard rock, progressive rock                              20.6   \n\n   Claimed Sales (millions) Released.1 Soundtrack  Rating  \n0                        65  30-Nov-82        NaN    10.0  \n1                        50  25-Jul-80        NaN     9.5  \n2                        45  01-Mar-73        NaN     9.0  \n3                        44  17-Nov-92          Y     8.5  \n4                        43  21-Oct-77        NaN     8.0  "
                    },
                    "execution_count": 4,
                    "metadata": {},
                    "output_type": "execute_result"
                }
            ],
            "source": "# Print first five rows of the dataframe\n\ndf.head()"
        },
        {
            "cell_type": "markdown",
            "metadata": {},
            "source": " We use the path of the excel file and the function <code>read_excel</code>. The result is a data frame as before:\n"
        },
        {
            "cell_type": "code",
            "execution_count": 5,
            "metadata": {
                "id": "e799775f-8e03-416b-88ef-cfa4c632a539"
            },
            "outputs": [
                {
                    "data": {
                        "text/html": "<div>\n<style scoped>\n    .dataframe tbody tr th:only-of-type {\n        vertical-align: middle;\n    }\n\n    .dataframe tbody tr th {\n        vertical-align: top;\n    }\n\n    .dataframe thead th {\n        text-align: right;\n    }\n</style>\n<table border=\"1\" class=\"dataframe\">\n  <thead>\n    <tr style=\"text-align: right;\">\n      <th></th>\n      <th>Artist</th>\n      <th>Album</th>\n      <th>Released</th>\n      <th>Length</th>\n      <th>Genre</th>\n      <th>Music Recording Sales (millions)</th>\n      <th>Claimed Sales (millions)</th>\n      <th>Released.1</th>\n      <th>Soundtrack</th>\n      <th>Rating</th>\n    </tr>\n  </thead>\n  <tbody>\n    <tr>\n      <th>0</th>\n      <td>Michael Jackson</td>\n      <td>Thriller</td>\n      <td>1982</td>\n      <td>00:42:19</td>\n      <td>pop, rock, R&amp;B</td>\n      <td>46.0</td>\n      <td>65</td>\n      <td>1982-11-30</td>\n      <td>NaN</td>\n      <td>10.0</td>\n    </tr>\n    <tr>\n      <th>1</th>\n      <td>AC/DC</td>\n      <td>Back in Black</td>\n      <td>1980</td>\n      <td>00:42:11</td>\n      <td>hard rock</td>\n      <td>26.1</td>\n      <td>50</td>\n      <td>1980-07-25</td>\n      <td>NaN</td>\n      <td>9.5</td>\n    </tr>\n    <tr>\n      <th>2</th>\n      <td>Pink Floyd</td>\n      <td>The Dark Side of the Moon</td>\n      <td>1973</td>\n      <td>00:42:49</td>\n      <td>progressive rock</td>\n      <td>24.2</td>\n      <td>45</td>\n      <td>1973-03-01</td>\n      <td>NaN</td>\n      <td>9.0</td>\n    </tr>\n    <tr>\n      <th>3</th>\n      <td>Whitney Houston</td>\n      <td>The Bodyguard</td>\n      <td>1992</td>\n      <td>00:57:44</td>\n      <td>R&amp;B, soul, pop</td>\n      <td>27.4</td>\n      <td>44</td>\n      <td>1992-11-17</td>\n      <td>Y</td>\n      <td>8.5</td>\n    </tr>\n    <tr>\n      <th>4</th>\n      <td>Meat Loaf</td>\n      <td>Bat Out of Hell</td>\n      <td>1977</td>\n      <td>00:46:33</td>\n      <td>hard rock, progressive rock</td>\n      <td>20.6</td>\n      <td>43</td>\n      <td>1977-10-21</td>\n      <td>NaN</td>\n      <td>8.0</td>\n    </tr>\n  </tbody>\n</table>\n</div>",
                        "text/plain": "            Artist                      Album  Released    Length  \\\n0  Michael Jackson                   Thriller      1982  00:42:19   \n1            AC/DC              Back in Black      1980  00:42:11   \n2       Pink Floyd  The Dark Side of the Moon      1973  00:42:49   \n3  Whitney Houston              The Bodyguard      1992  00:57:44   \n4        Meat Loaf            Bat Out of Hell      1977  00:46:33   \n\n                         Genre  Music Recording Sales (millions)  \\\n0               pop, rock, R&B                              46.0   \n1                    hard rock                              26.1   \n2             progressive rock                              24.2   \n3               R&B, soul, pop                              27.4   \n4  hard rock, progressive rock                              20.6   \n\n   Claimed Sales (millions) Released.1 Soundtrack  Rating  \n0                        65 1982-11-30        NaN    10.0  \n1                        50 1980-07-25        NaN     9.5  \n2                        45 1973-03-01        NaN     9.0  \n3                        44 1992-11-17          Y     8.5  \n4                        43 1977-10-21        NaN     8.0  "
                    },
                    "execution_count": 5,
                    "metadata": {},
                    "output_type": "execute_result"
                }
            ],
            "source": "# Read data from Excel File and print the first five rows\n\nxlsx_path = 'https://s3-api.us-geo.objectstorage.softlayer.net/cf-courses-data/CognitiveClass/PY0101EN/Chapter%204/Datasets/TopSellingAlbums.xlsx'\n\ndf = pd.read_excel(xlsx_path)\ndf.head()"
        },
        {
            "cell_type": "markdown",
            "metadata": {},
            "source": "We can access the column <b>Length</b> and assign it a new dataframe <b>x</b>:\n"
        },
        {
            "cell_type": "code",
            "execution_count": 6,
            "metadata": {
                "id": "f03cca94-3f5c-4e66-9b0b-5c70c9a432e1"
            },
            "outputs": [
                {
                    "data": {
                        "text/html": "<div>\n<style scoped>\n    .dataframe tbody tr th:only-of-type {\n        vertical-align: middle;\n    }\n\n    .dataframe tbody tr th {\n        vertical-align: top;\n    }\n\n    .dataframe thead th {\n        text-align: right;\n    }\n</style>\n<table border=\"1\" class=\"dataframe\">\n  <thead>\n    <tr style=\"text-align: right;\">\n      <th></th>\n      <th>Length</th>\n    </tr>\n  </thead>\n  <tbody>\n    <tr>\n      <th>0</th>\n      <td>00:42:19</td>\n    </tr>\n    <tr>\n      <th>1</th>\n      <td>00:42:11</td>\n    </tr>\n    <tr>\n      <th>2</th>\n      <td>00:42:49</td>\n    </tr>\n    <tr>\n      <th>3</th>\n      <td>00:57:44</td>\n    </tr>\n    <tr>\n      <th>4</th>\n      <td>00:46:33</td>\n    </tr>\n    <tr>\n      <th>5</th>\n      <td>00:43:08</td>\n    </tr>\n    <tr>\n      <th>6</th>\n      <td>01:15:54</td>\n    </tr>\n    <tr>\n      <th>7</th>\n      <td>00:40:01</td>\n    </tr>\n  </tbody>\n</table>\n</div>",
                        "text/plain": "     Length\n0  00:42:19\n1  00:42:11\n2  00:42:49\n3  00:57:44\n4  00:46:33\n5  00:43:08\n6  01:15:54\n7  00:40:01"
                    },
                    "execution_count": 6,
                    "metadata": {},
                    "output_type": "execute_result"
                }
            ],
            "source": "# Access to the column Length\n\nx = df[['Length']]\nx"
        },
        {
            "cell_type": "markdown",
            "metadata": {},
            "source": " The process is shown in the figure: \n"
        },
        {
            "cell_type": "markdown",
            "metadata": {},
            "source": "<img src=\"https://cf-courses-data.s3.us.cloud-object-storage.appdomain.cloud/IBMDeveloperSkillsNetwork-PY0101EN-SkillsNetwork/labs/Module%204/images/DataEgOne.png\" width=\"750\">\n"
        },
        {
            "cell_type": "markdown",
            "metadata": {},
            "source": "<hr>\n"
        },
        {
            "cell_type": "markdown",
            "metadata": {},
            "source": "<h2>Viewing Data and Accessing Data</h2>\n"
        },
        {
            "cell_type": "markdown",
            "metadata": {},
            "source": "You can also get a column as a series. You can think of a Pandas series as a 1-D dataframe. Just use one bracket: \n"
        },
        {
            "cell_type": "code",
            "execution_count": 7,
            "metadata": {
                "id": "27aa4c57-0b40-47e3-a96d-8463aed29430"
            },
            "outputs": [
                {
                    "data": {
                        "text/plain": "0    00:42:19\n1    00:42:11\n2    00:42:49\n3    00:57:44\n4    00:46:33\n5    00:43:08\n6    01:15:54\n7    00:40:01\nName: Length, dtype: object"
                    },
                    "execution_count": 7,
                    "metadata": {},
                    "output_type": "execute_result"
                }
            ],
            "source": "# Get the column as a series\n\nx = df['Length']\nx"
        },
        {
            "cell_type": "markdown",
            "metadata": {},
            "source": "You can also get a column as a dataframe. For example, we can assign the column <b>Artist</b>:\n"
        },
        {
            "cell_type": "code",
            "execution_count": 8,
            "metadata": {
                "id": "ae598e0b-2eb0-4abf-bcb6-ddb3138ac404"
            },
            "outputs": [
                {
                    "data": {
                        "text/plain": "pandas.core.frame.DataFrame"
                    },
                    "execution_count": 8,
                    "metadata": {},
                    "output_type": "execute_result"
                }
            ],
            "source": "# Get the column as a dataframe\n\nx = df[['Artist']]\ntype(x)"
        },
        {
            "cell_type": "markdown",
            "metadata": {},
            "source": "You can do the same thing for multiple columns; we just put the dataframe name, in this case, <code>df</code>, and the name of the multiple column headers enclosed in double brackets. The result is a new dataframe comprised of the specified columns:\n"
        },
        {
            "cell_type": "code",
            "execution_count": 9,
            "metadata": {
                "id": "8b4a4074-5568-48b0-bc2f-7235d7334bb4"
            },
            "outputs": [
                {
                    "data": {
                        "text/html": "<div>\n<style scoped>\n    .dataframe tbody tr th:only-of-type {\n        vertical-align: middle;\n    }\n\n    .dataframe tbody tr th {\n        vertical-align: top;\n    }\n\n    .dataframe thead th {\n        text-align: right;\n    }\n</style>\n<table border=\"1\" class=\"dataframe\">\n  <thead>\n    <tr style=\"text-align: right;\">\n      <th></th>\n      <th>Artist</th>\n      <th>Length</th>\n      <th>Genre</th>\n    </tr>\n  </thead>\n  <tbody>\n    <tr>\n      <th>0</th>\n      <td>Michael Jackson</td>\n      <td>00:42:19</td>\n      <td>pop, rock, R&amp;B</td>\n    </tr>\n    <tr>\n      <th>1</th>\n      <td>AC/DC</td>\n      <td>00:42:11</td>\n      <td>hard rock</td>\n    </tr>\n    <tr>\n      <th>2</th>\n      <td>Pink Floyd</td>\n      <td>00:42:49</td>\n      <td>progressive rock</td>\n    </tr>\n    <tr>\n      <th>3</th>\n      <td>Whitney Houston</td>\n      <td>00:57:44</td>\n      <td>R&amp;B, soul, pop</td>\n    </tr>\n    <tr>\n      <th>4</th>\n      <td>Meat Loaf</td>\n      <td>00:46:33</td>\n      <td>hard rock, progressive rock</td>\n    </tr>\n    <tr>\n      <th>5</th>\n      <td>Eagles</td>\n      <td>00:43:08</td>\n      <td>rock, soft rock, folk rock</td>\n    </tr>\n    <tr>\n      <th>6</th>\n      <td>Bee Gees</td>\n      <td>01:15:54</td>\n      <td>disco</td>\n    </tr>\n    <tr>\n      <th>7</th>\n      <td>Fleetwood Mac</td>\n      <td>00:40:01</td>\n      <td>soft rock</td>\n    </tr>\n  </tbody>\n</table>\n</div>",
                        "text/plain": "            Artist    Length                        Genre\n0  Michael Jackson  00:42:19               pop, rock, R&B\n1            AC/DC  00:42:11                    hard rock\n2       Pink Floyd  00:42:49             progressive rock\n3  Whitney Houston  00:57:44               R&B, soul, pop\n4        Meat Loaf  00:46:33  hard rock, progressive rock\n5           Eagles  00:43:08   rock, soft rock, folk rock\n6         Bee Gees  01:15:54                        disco\n7    Fleetwood Mac  00:40:01                    soft rock"
                    },
                    "execution_count": 9,
                    "metadata": {},
                    "output_type": "execute_result"
                }
            ],
            "source": "# Access to multiple columns\n\ny = df[['Artist','Length','Genre']]\ny"
        },
        {
            "cell_type": "markdown",
            "metadata": {},
            "source": "The process is shown in the figure:\n"
        },
        {
            "cell_type": "markdown",
            "metadata": {},
            "source": "<img src=\"https://cf-courses-data.s3.us.cloud-object-storage.appdomain.cloud/IBMDeveloperSkillsNetwork-PY0101EN-SkillsNetwork/labs/Module%204/images/DataEgTwo.png\" width=\"1100\">\n"
        },
        {
            "cell_type": "markdown",
            "metadata": {},
            "source": "One way to access unique elements is the <code>iloc</code> method, where you can access the 1st row and the 1st column as follows:\n"
        },
        {
            "cell_type": "code",
            "execution_count": 10,
            "metadata": {
                "id": "b91a8964-e3b9-4add-bb25-695f6e815c79"
            },
            "outputs": [
                {
                    "data": {
                        "text/plain": "'Michael Jackson'"
                    },
                    "execution_count": 10,
                    "metadata": {},
                    "output_type": "execute_result"
                }
            ],
            "source": "# Access the value on the first row and the first column\n\ndf.iloc[0, 0]"
        },
        {
            "cell_type": "markdown",
            "metadata": {},
            "source": "You can access the 2nd row and the 1st column as follows:\n"
        },
        {
            "cell_type": "code",
            "execution_count": 11,
            "metadata": {
                "id": "7e6fc133-a529-4c43-8222-febfe9f83ff4"
            },
            "outputs": [
                {
                    "data": {
                        "text/plain": "'AC/DC'"
                    },
                    "execution_count": 11,
                    "metadata": {},
                    "output_type": "execute_result"
                }
            ],
            "source": "# Access the value on the second row and the first column\n\ndf.iloc[1,0]"
        },
        {
            "cell_type": "markdown",
            "metadata": {},
            "source": "You can access the 1st row and the 3rd column as follows: \n"
        },
        {
            "cell_type": "code",
            "execution_count": 12,
            "metadata": {
                "id": "7776433c-24db-4875-9ef3-350876209e9f"
            },
            "outputs": [
                {
                    "data": {
                        "text/plain": "1982"
                    },
                    "execution_count": 12,
                    "metadata": {},
                    "output_type": "execute_result"
                }
            ],
            "source": "# Access the value on the first row and the third column\n\ndf.iloc[0,2]"
        },
        {
            "cell_type": "code",
            "execution_count": 14,
            "metadata": {
                "id": "f094d91e-7e43-446f-84f3-34ee7d56c1c9"
            },
            "outputs": [
                {
                    "data": {
                        "text/plain": "1980"
                    },
                    "execution_count": 14,
                    "metadata": {},
                    "output_type": "execute_result"
                }
            ],
            "source": "# Access the value on the second row and the third column\ndf.iloc[1,2]"
        },
        {
            "cell_type": "code",
            "execution_count": null,
            "metadata": {
                "id": "5098114f-4507-43f6-90cc-26f12ec93844"
            },
            "outputs": [],
            "source": ""
        },
        {
            "cell_type": "markdown",
            "metadata": {},
            "source": "This is shown in the following image\n"
        },
        {
            "cell_type": "markdown",
            "metadata": {},
            "source": "<img src=\"https://cf-courses-data.s3.us.cloud-object-storage.appdomain.cloud/IBMDeveloperSkillsNetwork-PY0101EN-SkillsNetwork/labs/Module%204/images/2_loc.PNG\" width=\"750\">\n"
        },
        {
            "cell_type": "markdown",
            "metadata": {},
            "source": "You can access the column using the name as well, the following are the same as above: \n"
        },
        {
            "cell_type": "code",
            "execution_count": 15,
            "metadata": {
                "id": "1b80556a-c54a-4ad9-80f5-4da2c2956ab4"
            },
            "outputs": [
                {
                    "data": {
                        "text/plain": "'Michael Jackson'"
                    },
                    "execution_count": 15,
                    "metadata": {},
                    "output_type": "execute_result"
                }
            ],
            "source": "# Access the column using the name\n\ndf.loc[0, 'Artist']"
        },
        {
            "cell_type": "code",
            "execution_count": 16,
            "metadata": {
                "id": "a8ba6957-6fa3-46a0-96b4-91d9ca2e4b54"
            },
            "outputs": [
                {
                    "data": {
                        "text/plain": "'AC/DC'"
                    },
                    "execution_count": 16,
                    "metadata": {},
                    "output_type": "execute_result"
                }
            ],
            "source": "# Access the column using the name\n\ndf.loc[1, 'Artist']"
        },
        {
            "cell_type": "code",
            "execution_count": 17,
            "metadata": {
                "id": "acf9b867-2294-42a4-8882-3011bfde2799"
            },
            "outputs": [
                {
                    "data": {
                        "text/plain": "1982"
                    },
                    "execution_count": 17,
                    "metadata": {},
                    "output_type": "execute_result"
                }
            ],
            "source": "# Access the column using the name\n\ndf.loc[0, 'Released']"
        },
        {
            "cell_type": "code",
            "execution_count": 18,
            "metadata": {
                "id": "369e4836-4c1d-4682-ae11-60f1a69d9057"
            },
            "outputs": [
                {
                    "data": {
                        "text/plain": "1980"
                    },
                    "execution_count": 18,
                    "metadata": {},
                    "output_type": "execute_result"
                }
            ],
            "source": "# Access the column using the name\n\ndf.loc[1, 'Released']"
        },
        {
            "cell_type": "markdown",
            "metadata": {},
            "source": "<img src=\"https://cf-courses-data.s3.us.cloud-object-storage.appdomain.cloud/IBMDeveloperSkillsNetwork-PY0101EN-SkillsNetwork/labs/Module%204/images/1_loc.png\" width=\"750\">\n"
        },
        {
            "cell_type": "markdown",
            "metadata": {},
            "source": "You can perform slicing using both the index and the name of the column:\n"
        },
        {
            "cell_type": "code",
            "execution_count": 19,
            "metadata": {
                "id": "c4cd34b5-b3da-497e-98b3-0bafee606252"
            },
            "outputs": [
                {
                    "data": {
                        "text/html": "<div>\n<style scoped>\n    .dataframe tbody tr th:only-of-type {\n        vertical-align: middle;\n    }\n\n    .dataframe tbody tr th {\n        vertical-align: top;\n    }\n\n    .dataframe thead th {\n        text-align: right;\n    }\n</style>\n<table border=\"1\" class=\"dataframe\">\n  <thead>\n    <tr style=\"text-align: right;\">\n      <th></th>\n      <th>Artist</th>\n      <th>Album</th>\n      <th>Released</th>\n    </tr>\n  </thead>\n  <tbody>\n    <tr>\n      <th>0</th>\n      <td>Michael Jackson</td>\n      <td>Thriller</td>\n      <td>1982</td>\n    </tr>\n    <tr>\n      <th>1</th>\n      <td>AC/DC</td>\n      <td>Back in Black</td>\n      <td>1980</td>\n    </tr>\n  </tbody>\n</table>\n</div>",
                        "text/plain": "            Artist          Album  Released\n0  Michael Jackson       Thriller      1982\n1            AC/DC  Back in Black      1980"
                    },
                    "execution_count": 19,
                    "metadata": {},
                    "output_type": "execute_result"
                }
            ],
            "source": "# Slicing the dataframe\n\ndf.iloc[0:2, 0:3]"
        },
        {
            "cell_type": "markdown",
            "metadata": {},
            "source": "<img src=\"https://cf-courses-data.s3.us.cloud-object-storage.appdomain.cloud/IBMDeveloperSkillsNetwork-PY0101EN-SkillsNetwork/labs/Module%204/images/4_loc.png\" width=\"750\">\n"
        },
        {
            "cell_type": "code",
            "execution_count": 20,
            "metadata": {
                "id": "9ba9b452-b982-4a30-a106-e98d22fa9061"
            },
            "outputs": [
                {
                    "data": {
                        "text/html": "<div>\n<style scoped>\n    .dataframe tbody tr th:only-of-type {\n        vertical-align: middle;\n    }\n\n    .dataframe tbody tr th {\n        vertical-align: top;\n    }\n\n    .dataframe thead th {\n        text-align: right;\n    }\n</style>\n<table border=\"1\" class=\"dataframe\">\n  <thead>\n    <tr style=\"text-align: right;\">\n      <th></th>\n      <th>Artist</th>\n      <th>Album</th>\n      <th>Released</th>\n    </tr>\n  </thead>\n  <tbody>\n    <tr>\n      <th>0</th>\n      <td>Michael Jackson</td>\n      <td>Thriller</td>\n      <td>1982</td>\n    </tr>\n    <tr>\n      <th>1</th>\n      <td>AC/DC</td>\n      <td>Back in Black</td>\n      <td>1980</td>\n    </tr>\n    <tr>\n      <th>2</th>\n      <td>Pink Floyd</td>\n      <td>The Dark Side of the Moon</td>\n      <td>1973</td>\n    </tr>\n  </tbody>\n</table>\n</div>",
                        "text/plain": "            Artist                      Album  Released\n0  Michael Jackson                   Thriller      1982\n1            AC/DC              Back in Black      1980\n2       Pink Floyd  The Dark Side of the Moon      1973"
                    },
                    "execution_count": 20,
                    "metadata": {},
                    "output_type": "execute_result"
                }
            ],
            "source": "# Slicing the dataframe using name\n\ndf.loc[0:2, 'Artist':'Released']"
        },
        {
            "cell_type": "markdown",
            "metadata": {},
            "source": "<img src=\"https://cf-courses-data.s3.us.cloud-object-storage.appdomain.cloud/IBMDeveloperSkillsNetwork-PY0101EN-SkillsNetwork/labs/Module%204/images/3_loc.png\" width=\"750\">\n"
        },
        {
            "cell_type": "markdown",
            "metadata": {},
            "source": "<hr>\n"
        },
        {
            "cell_type": "markdown",
            "metadata": {},
            "source": "<h2>Quiz on DataFrame</h2>\n"
        },
        {
            "cell_type": "markdown",
            "metadata": {},
            "source": "Use a variable <code>q</code> to store the column <b>Rating</b> as a dataframe\n"
        },
        {
            "cell_type": "code",
            "execution_count": 26,
            "metadata": {
                "id": "721b9d5f-7d43-434f-93ab-ed25aa1263b4"
            },
            "outputs": [
                {
                    "data": {
                        "text/html": "<div>\n<style scoped>\n    .dataframe tbody tr th:only-of-type {\n        vertical-align: middle;\n    }\n\n    .dataframe tbody tr th {\n        vertical-align: top;\n    }\n\n    .dataframe thead th {\n        text-align: right;\n    }\n</style>\n<table border=\"1\" class=\"dataframe\">\n  <thead>\n    <tr style=\"text-align: right;\">\n      <th></th>\n      <th>Rating</th>\n    </tr>\n  </thead>\n  <tbody>\n    <tr>\n      <th>0</th>\n      <td>10.0</td>\n    </tr>\n    <tr>\n      <th>1</th>\n      <td>9.5</td>\n    </tr>\n    <tr>\n      <th>2</th>\n      <td>9.0</td>\n    </tr>\n    <tr>\n      <th>3</th>\n      <td>8.5</td>\n    </tr>\n    <tr>\n      <th>4</th>\n      <td>8.0</td>\n    </tr>\n    <tr>\n      <th>5</th>\n      <td>7.5</td>\n    </tr>\n    <tr>\n      <th>6</th>\n      <td>7.0</td>\n    </tr>\n    <tr>\n      <th>7</th>\n      <td>6.5</td>\n    </tr>\n  </tbody>\n</table>\n</div>",
                        "text/plain": "   Rating\n0    10.0\n1     9.5\n2     9.0\n3     8.5\n4     8.0\n5     7.5\n6     7.0\n7     6.5"
                    },
                    "execution_count": 26,
                    "metadata": {},
                    "output_type": "execute_result"
                }
            ],
            "source": "# Write your code below and press Shift+Enter to execute\nq = df[['Rating']]\nq"
        },
        {
            "cell_type": "markdown",
            "metadata": {},
            "source": "<details><summary>Click here for the solution</summary>\n\n```python\nq = df[['Rating']]\nq\n    \n```\n\n</details>\n\n    \n"
        },
        {
            "cell_type": "markdown",
            "metadata": {},
            "source": "Assign the variable <code>q</code> to the dataframe that is made up of the column <b>Released</b> and <b>Artist</b>:\n"
        },
        {
            "cell_type": "code",
            "execution_count": 28,
            "metadata": {
                "id": "67bfabf3-9785-4d72-abc7-ee852488a4c6"
            },
            "outputs": [
                {
                    "data": {
                        "text/html": "<div>\n<style scoped>\n    .dataframe tbody tr th:only-of-type {\n        vertical-align: middle;\n    }\n\n    .dataframe tbody tr th {\n        vertical-align: top;\n    }\n\n    .dataframe thead th {\n        text-align: right;\n    }\n</style>\n<table border=\"1\" class=\"dataframe\">\n  <thead>\n    <tr style=\"text-align: right;\">\n      <th></th>\n      <th>Released</th>\n      <th>Artist</th>\n    </tr>\n  </thead>\n  <tbody>\n    <tr>\n      <th>0</th>\n      <td>1982</td>\n      <td>Michael Jackson</td>\n    </tr>\n    <tr>\n      <th>1</th>\n      <td>1980</td>\n      <td>AC/DC</td>\n    </tr>\n    <tr>\n      <th>2</th>\n      <td>1973</td>\n      <td>Pink Floyd</td>\n    </tr>\n    <tr>\n      <th>3</th>\n      <td>1992</td>\n      <td>Whitney Houston</td>\n    </tr>\n    <tr>\n      <th>4</th>\n      <td>1977</td>\n      <td>Meat Loaf</td>\n    </tr>\n    <tr>\n      <th>5</th>\n      <td>1976</td>\n      <td>Eagles</td>\n    </tr>\n    <tr>\n      <th>6</th>\n      <td>1977</td>\n      <td>Bee Gees</td>\n    </tr>\n    <tr>\n      <th>7</th>\n      <td>1977</td>\n      <td>Fleetwood Mac</td>\n    </tr>\n  </tbody>\n</table>\n</div>",
                        "text/plain": "   Released           Artist\n0      1982  Michael Jackson\n1      1980            AC/DC\n2      1973       Pink Floyd\n3      1992  Whitney Houston\n4      1977        Meat Loaf\n5      1976           Eagles\n6      1977         Bee Gees\n7      1977    Fleetwood Mac"
                    },
                    "execution_count": 28,
                    "metadata": {},
                    "output_type": "execute_result"
                }
            ],
            "source": "# Write your code below and press Shift+Enter to execute\nq = df[['Released', 'Artist']]\nq"
        },
        {
            "cell_type": "markdown",
            "metadata": {},
            "source": "<details><summary>Click here for the solution</summary>\n\n```python\nq = df[['Released', 'Artist']]\nq\n    \n```\n\n</details>\n\n    \n"
        },
        {
            "cell_type": "markdown",
            "metadata": {},
            "source": "Access the 2nd row and the 3rd column of <code>df</code>:\n"
        },
        {
            "cell_type": "code",
            "execution_count": 29,
            "metadata": {
                "id": "da5c3244-a6f0-416c-ae31-d02a5647833d"
            },
            "outputs": [
                {
                    "data": {
                        "text/plain": "1980"
                    },
                    "execution_count": 29,
                    "metadata": {},
                    "output_type": "execute_result"
                }
            ],
            "source": "# Write your code below and press Shift+Enter to execute\ndf.iloc[1,2]"
        },
        {
            "cell_type": "markdown",
            "metadata": {},
            "source": "<details><summary>Click here for the solution</summary>\n\n```python\ndf.iloc[1, 2]\n    \n```\n\n</details>\n\n    \n"
        },
        {
            "cell_type": "markdown",
            "metadata": {},
            "source": "Use the following list to convert the dataframe index <code>df</code> to characters and assign it to <code>df_new</code>; find the element corresponding to the row index <code>a</code> and column  <code>'Artist'</code>. Then select the rows <code>a</code> through <code>d</code> for the column  <code>'Artist'</code>\n"
        },
        {
            "cell_type": "code",
            "execution_count": 32,
            "metadata": {
                "id": "cf2360b9-06cc-426d-b5cd-6868b99d78ba"
            },
            "outputs": [
                {
                    "data": {
                        "text/plain": "a    Michael Jackson\nb              AC/DC\nc         Pink Floyd\nd    Whitney Houston\nName: Artist, dtype: object"
                    },
                    "execution_count": 32,
                    "metadata": {},
                    "output_type": "execute_result"
                }
            ],
            "source": "new_index=['a','b','c','d','e','f','g','h']\ndf_new = df\ndf_new.index = new_index\ndf_new.loc['a', 'Artist']\ndf_new.loc['a':'d', 'Artist']"
        },
        {
            "cell_type": "markdown",
            "metadata": {},
            "source": "<details><summary>Click here for the solution</summary>\n\n```python\ndf_new=df\ndf_new.index=new_index\ndf_new.loc['a', 'Artist']\ndf_new.loc['a':'d', 'Artist']\n    \n```\n\n</details>\n\n    \n"
        },
        {
            "cell_type": "markdown",
            "metadata": {},
            "source": "<hr>\n<h2>The last exercise!</h2>\n<p>Congratulations, you have completed your first lesson and hands-on lab in Python. \n</p><hr>\n"
        },
        {
            "cell_type": "markdown",
            "metadata": {},
            "source": "## Authors:  \n\n [Joseph Santarcangelo](https://www.linkedin.com/in/joseph-s-50398b136/?utm_medium=Exinfluencer&amp;utm_source=Exinfluencer&amp;utm_content=000026UJ&amp;utm_term=10006555&amp;utm_id=NA-SkillsNetwork-Channel-SkillsNetworkCoursesIBMDeveloperSkillsNetworkPY0101ENSkillsNetwork1005-2023-01-01) \n \nJoseph Santarcangelo has a PhD in Electrical Engineering, his research focused on using machine learning, signal processing, and computer vision to determine how videos impact human cognition. Joseph has been working for IBM since he completed his PhD.\n\n\n\n## Change Log\n\n\n|  Date (YYYY-MM-DD) |  Version | Changed By  |  Change Description |\n|---|---|---|---|\n| 2022-01-10  | 2.1  | Malika  | Removed the readme for GitShare|\n| 2020-08-26  | 2.0  | Lavanya | Moved lab to course repo in GitLab |\n| 2020-11-24  | 3.0  | Nayef   |  Added new images  |\n|   |   |   |   |\n\n\n\n<hr>\n\n## <h3 align=\"center\"> \u00a9 IBM Corporation 2020. All rights reserved. </h3><h3>\n</h3>"
        }
    ],
    "metadata": {
        "kernelspec": {
            "display_name": "Python 3.11",
            "language": "python",
            "name": "python3"
        },
        "language_info": {
            "codemirror_mode": {
                "name": "ipython",
                "version": 3
            },
            "file_extension": ".py",
            "mimetype": "text/x-python",
            "name": "python",
            "nbconvert_exporter": "python",
            "pygments_lexer": "ipython3",
            "version": "3.11.9"
        }
    },
    "nbformat": 4,
    "nbformat_minor": 4
}